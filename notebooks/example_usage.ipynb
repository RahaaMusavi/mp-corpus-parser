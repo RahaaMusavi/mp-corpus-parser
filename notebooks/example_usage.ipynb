{
 "cells": [
  {
   "cell_type": "code",
   "execution_count": 1,
   "id": "829c9c5d",
   "metadata": {},
   "outputs": [],
   "source": [
    "# Import the toolkit, giving it a shorter alias 'mpc'\n",
    "import corpus_parser as mpc\n",
    "\n",
    "# Set your folder paths\n",
    "input_folder = r\"C:\\Users\\rahaa\\Dropbox\\MPCD\\the syntax project\\nounphrase\\export_files\"\n",
    "output_folder = r\"C:\\Users\\rahaa\\Dropbox\\MPCD\\the syntax project\\nounphrase\\export_files\\conllu_output\""
   ]
  },
  {
   "cell_type": "code",
   "execution_count": 3,
   "id": "90a1292f",
   "metadata": {},
   "outputs": [
    {
     "name": "stdout",
     "output_type": "stream",
     "text": [
      "--- Starting Corpus Parsing Pipeline ---\n",
      "Step 1: Converting files from 'C:\\Users\\rahaa\\Dropbox\\MPCD\\the syntax project\\nounphrase\\export_files'\n"
     ]
    },
    {
     "data": {
      "application/vnd.jupyter.widget-view+json": {
       "model_id": "42984f053a914ce8b2f1b23683e0e44d",
       "version_major": 2,
       "version_minor": 0
      },
      "text/plain": [
       "Converting source files: 0it [00:00, ?it/s]"
      ]
     },
     "metadata": {},
     "output_type": "display_data"
    },
    {
     "name": "stdout",
     "output_type": "stream",
     "text": [
      "\n",
      "Source file conversion complete!\n",
      "\n",
      "Step 2: Loading processed files from 'C:\\Users\\rahaa\\Dropbox\\MPCD\\the syntax project\\nounphrase\\export_files\\conllu_output'\n"
     ]
    },
    {
     "data": {
      "application/vnd.jupyter.widget-view+json": {
       "model_id": "663cacd1337e43b880b1a8a2fde0bb4c",
       "version_major": 2,
       "version_minor": 0
      },
      "text/plain": [
       "Loading and Parsing CoNLL-U files:   0%|          | 0/21 [00:00<?, ?it/s]"
      ]
     },
     "metadata": {},
     "output_type": "display_data"
    },
    {
     "name": "stdout",
     "output_type": "stream",
     "text": [
      "\n",
      "Successfully loaded 12717 sentences.\n",
      "\n",
      "--- Pipeline Complete ---\n",
      "\n",
      "Successfully created 'my_corpus' with 12717 sentences.\n"
     ]
    }
   ],
   "source": [
    "# Run the entire pipeline with one simple function call\n",
    "my_corpus = mpc.parse_corpus(input_folder, output_folder)\n",
    "\n",
    "# The 'my_corpus' variable now holds your 'all_corpus_sentences_list'\n",
    "print(f\"\\nSuccessfully created 'my_corpus' with {len(my_corpus)} sentences.\")"
   ]
  },
  {
   "cell_type": "code",
   "execution_count": 4,
   "id": "bc1d95bf",
   "metadata": {},
   "outputs": [
    {
     "name": "stdout",
     "output_type": "stream",
     "text": [
      "\n",
      "Found 86 sentences containing 'dānāg'.\n"
     ]
    }
   ],
   "source": [
    "# You can now use the 'my_corpus' variable for any analysis.\n",
    "# For example, here is the search function from before:\n",
    "\n",
    "def search_corpus_by_form(corpus, search_term, case_sensitive=False):\n",
    "    matching_sentences = []\n",
    "    query = search_term if case_sensitive else search_term.lower()\n",
    "    for sentence in corpus:\n",
    "        for token in sentence.get_tokens():\n",
    "            token_form = str(token.form) if token.form else \"\"\n",
    "            comparison_form = token_form if case_sensitive else token_form.lower()\n",
    "            if query == comparison_form:\n",
    "                matching_sentences.append(sentence)\n",
    "                break\n",
    "    return matching_sentences\n",
    "\n",
    "# --- Run a search ---\n",
    "search_query = \"dānāg\"\n",
    "results = search_corpus_by_form(my_corpus, search_query)\n",
    "\n",
    "print(f\"\\nFound {len(results)} sentences containing '{search_query}'.\")\n",
    "# You can add more display logic here if needed"
   ]
  }
 ],
 "metadata": {
  "kernelspec": {
   "display_name": "Python 3",
   "language": "python",
   "name": "python3"
  },
  "language_info": {
   "codemirror_mode": {
    "name": "ipython",
    "version": 3
   },
   "file_extension": ".py",
   "mimetype": "text/x-python",
   "name": "python",
   "nbconvert_exporter": "python",
   "pygments_lexer": "ipython3",
   "version": "3.9.6"
  }
 },
 "nbformat": 4,
 "nbformat_minor": 5
}
